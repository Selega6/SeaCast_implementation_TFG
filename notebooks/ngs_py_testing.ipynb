{
 "cells": [
  {
   "cell_type": "code",
   "execution_count": null,
   "id": "413c583d",
   "metadata": {},
   "outputs": [],
   "source": []
  },
  {
   "cell_type": "code",
   "execution_count": null,
   "id": "af254ce0",
   "metadata": {},
   "outputs": [],
   "source": []
  },
  {
   "cell_type": "code",
   "execution_count": 5,
   "id": "9b644071",
   "metadata": {},
   "outputs": [],
   "source": [
    "import numpy as np\n",
    "from scipy.ndimage import distance_transform_edt, label\n",
    "\n",
    "def get_african_upwelling_zone(sea_surface: np.ndarray,\n",
    "                               n_pixels: int = 10) -> np.ndarray:\n",
    "    \"\"\"\n",
    "    Gets the upwelling zone of width n_pixels *only* along\n",
    "    the African coast, excluding islands.\n",
    "\n",
    "    Parameters\n",
    "    ----------\n",
    "    sea_surface : np.ndarray, bool\n",
    "    Mask where True = sea, False = land.\n",
    "    n_pixels : int\n",
    "    Width of the coastal zone in pixels (default 10).\n",
    "\n",
    "    Returns\n",
    "    -------\n",
    "    np.ndarray, bool\n",
    "    Mask of the upwelling zone: True = sea pixels within\n",
    "    n_pixels of the African coast.\n",
    "    \"\"\"\n",
    "    sea = sea_surface.astype(bool)\n",
    "    land = ~sea\n",
    "\n",
    "    labeled_land, n_components = label(land)\n",
    "\n",
    "    sizes = np.bincount(labeled_land.ravel())\n",
    "    sizes[0] = 0\n",
    "    main_label = sizes.argmax()\n",
    "\n",
    "    africa_mask = (labeled_land == main_label)\n",
    "\n",
    "    dist_mask = ~africa_mask\n",
    "\n",
    "    dist = distance_transform_edt(dist_mask)\n",
    "\n",
    "    upwelling_zone = sea & (dist <= n_pixels)\n",
    "\n",
    "    return upwelling_zone\n",
    "\n",
    "sea_mask = np.load(\"D:/ULPGC/4Curso/TFG/seacast_code/Proyecto_TFG/Seacast/data/atlantic/static/sea_mask.npy\")\n",
    "sea_mask = sea_mask[0]\n",
    "coastal_line = get_african_upwelling_zone(sea_surface=sea_mask, n_pixels=1)"
   ]
  },
  {
   "cell_type": "code",
   "execution_count": 6,
   "id": "20b8acda",
   "metadata": {},
   "outputs": [
    {
     "data": {
      "text/plain": [
       "<matplotlib.image.AxesImage at 0x283844d6c50>"
      ]
     },
     "execution_count": 6,
     "metadata": {},
     "output_type": "execute_result"
    },
    {
     "data": {
      "image/png": "[encoded data removed]",
      "text/plain": [
       "<Figure size 640x480 with 1 Axes>"
      ]
     },
     "metadata": {},
     "output_type": "display_data"
    }
   ],
   "source": [
    "import matplotlib.pyplot as plt\n",
    "plt.imshow(coastal_line, cmap=\"gray\", origin=\"lower\")"
   ]
  },
  {
   "cell_type": "code",
   "execution_count": null,
   "id": "eb4714a4",
   "metadata": {},
   "outputs": [],
   "source": []
  }
 ],
 "metadata": {
  "kernelspec": {
   "display_name": "tfg_env",
   "language": "python",
   "name": "python3"
  },
  "language_info": {
   "codemirror_mode": {
    "name": "ipython",
    "version": 3
   },
   "file_extension": ".py",
   "mimetype": "text/x-python",
   "name": "python",
   "nbconvert_exporter": "python",
   "pygments_lexer": "ipython3",
   "version": "3.10.16"
  }
 },
 "nbformat": 4,
 "nbformat_minor": 5
}
